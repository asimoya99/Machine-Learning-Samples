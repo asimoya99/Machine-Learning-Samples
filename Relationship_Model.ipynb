{
  "nbformat": 4,
  "nbformat_minor": 0,
  "metadata": {
    "colab": {
      "name": "Relationship Model.ipynb",
      "provenance": [],
      "authorship_tag": "ABX9TyNPLZuFW0ZxzFM8ab9wGd6S",
      "include_colab_link": true
    },
    "kernelspec": {
      "name": "python3",
      "display_name": "Python 3"
    }
  },
  "cells": [
    {
      "cell_type": "markdown",
      "metadata": {
        "id": "view-in-github",
        "colab_type": "text"
      },
      "source": [
        "<a href=\"https://colab.research.google.com/github/asimoya99/Machine-Learning-Samples/blob/master/Relationship_Model.ipynb\" target=\"_parent\"><img src=\"https://colab.research.google.com/assets/colab-badge.svg\" alt=\"Open In Colab\"/></a>"
      ]
    },
    {
      "cell_type": "code",
      "metadata": {
        "id": "FRA73W5YdbV_",
        "colab_type": "code",
        "colab": {}
      },
      "source": [
        "users = [\n",
        "    { \"id\": 0, \"name\": \"Hero\" },\n",
        "    { \"id\": 1, \"name\": \"Dunn\" },\n",
        "    { \"id\": 2, \"name\": \"Sue\" },\n",
        "    { \"id\": 3, \"name\": \"Chi\" },\n",
        "    { \"id\": 4, \"name\": \"Thor\" },\n",
        "    { \"id\": 5, \"name\": \"Clive\" },\n",
        "    { \"id\": 6, \"name\": \"Hicks\" },\n",
        "    { \"id\": 7, \"name\": \"Devin\" },\n",
        "    { \"id\": 8, \"name\": \"Kate\" },\n",
        "    { \"id\": 9, \"name\": \"Klein\" }\n",
        "]\n",
        "friendship_pairs = [(0, 1), (0, 2), (1, 2), (1, 3), (2, 3), (3, 4),\n",
        "                    (4, 5), (5, 6), (5, 7), (6, 8), (7, 8), (8, 9)]\n",
        "# Initialize the dict with an empty list for each user id:\n",
        "friendships = {user[\"id\"]: [] for user in users}\n",
        "\n",
        "# And loop over the friendship pairs to populate it:\n",
        "for i, j in friendship_pairs:\n",
        "    friendships[i].append(j)  # Add j as a friend of user i\n",
        "    friendships[j].append(i)  # Add i as a friend of user j\n",
        "\n",
        "#how many friends does user have\n",
        "def number_of_friends(user):\n",
        "  user_id = user[\"id\"]\n",
        "  friend_ids = friendships[user_id]\n",
        "  return len(friend_ids)\n",
        "total_connections = sum(number_of_friends(user) for user in users)\n",
        "\n"
      ],
      "execution_count": 0,
      "outputs": []
    },
    {
      "cell_type": "code",
      "metadata": {
        "id": "sIjcFBqrvZEu",
        "colab_type": "code",
        "colab": {
          "base_uri": "https://localhost:8080/",
          "height": 187
        },
        "outputId": "1dae6962-742f-409e-ae6a-f37cd3d979eb"
      },
      "source": [
        "for user in users:\n",
        "  print(\"Name is %s and the id is : %s\" % (user[\"name\"], user[\"id\"]))\n",
        "\n",
        "  "
      ],
      "execution_count": 32,
      "outputs": [
        {
          "output_type": "stream",
          "text": [
            "Name is Hero and the id is : 0\n",
            "Name is Dunn and the id is : 1\n",
            "Name is Sue and the id is : 2\n",
            "Name is Chi and the id is : 3\n",
            "Name is Thor and the id is : 4\n",
            "Name is Clive and the id is : 5\n",
            "Name is Hicks and the id is : 6\n",
            "Name is Devin and the id is : 7\n",
            "Name is Kate and the id is : 8\n",
            "Name is Klein and the id is : 9\n"
          ],
          "name": "stdout"
        }
      ]
    },
    {
      "cell_type": "code",
      "metadata": {
        "id": "ETECCILagB5-",
        "colab_type": "code",
        "colab": {}
      },
      "source": [
        "#finding the average\n",
        "numb_users  = len(users)\n",
        "avg_connections = total_connections /numb_users"
      ],
      "execution_count": 0,
      "outputs": []
    },
    {
      "cell_type": "code",
      "metadata": {
        "id": "7UwyNaLJgVuP",
        "colab_type": "code",
        "colab": {}
      },
      "source": [
        "#finding the most connected people \n",
        "\n",
        "#create a list (user_id, num_of_friends)\n",
        "num_friends_by_id = [(user[\"id\"], number_of_friends(user)) for user in users]\n",
        "\n",
        "#sort the list by the number of friends\n",
        "num_friends_by_id.sort(key = lambda id_and_friends: id_and_friends[1], reverse = True)"
      ],
      "execution_count": 0,
      "outputs": []
    },
    {
      "cell_type": "code",
      "metadata": {
        "id": "-YPkEYPBpkji",
        "colab_type": "code",
        "colab": {}
      },
      "source": [
        "#suggesting friends of a friend\n",
        "def foaf_ids_bad(user):\n",
        "  #foaf is the short for \"friend of a friend\"\n",
        "  return [foaf_id \n",
        "          for friend_id in friendships[user[\"id\"]]\n",
        "          for foaf_id in friendships[friend_id]\n",
        "          \n",
        "          ]\n"
      ],
      "execution_count": 0,
      "outputs": []
    },
    {
      "cell_type": "code",
      "metadata": {
        "id": "9XNfsugmq4JZ",
        "colab_type": "code",
        "colab": {
          "base_uri": "https://localhost:8080/",
          "height": 34
        },
        "outputId": "e3ed46a2-dadc-4332-a62d-c92113bbeb74"
      },
      "source": [
        "#count the number of mutual friends\n",
        "from collections import Counter                   # not loaded by default\n",
        "\n",
        "def friends_of_friends(user):\n",
        "    user_id = user[\"id\"]\n",
        "    return Counter(\n",
        "        foaf_id\n",
        "        for friend_id in friendships[user_id]     # For each of my friends,\n",
        "        for foaf_id in friendships[friend_id]     # find their friends\n",
        "        if foaf_id != user_id                     # who aren't me\n",
        "        and foaf_id not in friendships[user_id]   # and aren't my friends.\n",
        "    )\n",
        "\n",
        "\n",
        "print(friends_of_friends(users[3]))"
      ],
      "execution_count": 21,
      "outputs": [
        {
          "output_type": "stream",
          "text": [
            "Counter({0: 2, 5: 1})\n"
          ],
          "name": "stdout"
        }
      ]
    },
    {
      "cell_type": "code",
      "metadata": {
        "id": "ihPjfAFvsFBl",
        "colab_type": "code",
        "colab": {}
      },
      "source": [
        "#connecting users with similar interests\n",
        "interests = [\n",
        "    (0, \"Hadoop\"), (0, \"Big Data\"), (0, \"HBase\"), (0, \"Java\"),\n",
        "    (0, \"Spark\"), (0, \"Storm\"), (0, \"Cassandra\"),\n",
        "    (1, \"NoSQL\"), (1, \"MongoDB\"), (1, \"Cassandra\"), (1, \"HBase\"),\n",
        "    (1, \"Postgres\"), (2, \"Python\"), (2, \"scikit-learn\"), (2, \"scipy\"),\n",
        "    (2, \"numpy\"), (2, \"statsmodels\"), (2, \"pandas\"), (3, \"R\"), (3, \"Python\"),\n",
        "    (3, \"statistics\"), (3, \"regression\"), (3, \"probability\"),\n",
        "    (4, \"machine learning\"), (4, \"regression\"), (4, \"decision trees\"),\n",
        "    (4, \"libsvm\"), (5, \"Python\"), (5, \"R\"), (5, \"Java\"), (5, \"C++\"),\n",
        "    (5, \"Haskell\"), (5, \"programming languages\"), (6, \"statistics\"),\n",
        "    (6, \"probability\"), (6, \"mathematics\"), (6, \"theory\"),\n",
        "    (7, \"machine learning\"), (7, \"scikit-learn\"), (7, \"Mahout\"),\n",
        "    (7, \"neural networks\"), (8, \"neural networks\"), (8, \"deep learning\"),\n",
        "    (8, \"Big Data\"), (8, \"artificial intelligence\"), (9, \"Hadoop\"),\n",
        "    (9, \"Java\"), (9, \"MapReduce\"), (9, \"Big Data\")\n",
        "]"
      ],
      "execution_count": 0,
      "outputs": []
    },
    {
      "cell_type": "code",
      "metadata": {
        "id": "SbQtACBAug4w",
        "colab_type": "code",
        "colab": {}
      },
      "source": [
        "def datascientist_who_like(target_interest):\n",
        "  \"\"\" Find the ids of all users who like the target interest\"\"\"\n",
        "  return [\n",
        "          user_id \n",
        "          for user_id, user_interest in interests\n",
        "          if user_interest == target_interest\n",
        "  ]"
      ],
      "execution_count": 0,
      "outputs": []
    },
    {
      "cell_type": "code",
      "metadata": {
        "id": "9DfMMkw6yDw6",
        "colab_type": "code",
        "colab": {}
      },
      "source": [
        "#building an index of the users from interests\n",
        "from collections import defaultdict\n",
        "\n",
        "#Keys are interests, values are lists of user_ids with that interest\n",
        "user_ids_by_interest = defaultdict(list)\n",
        "\n",
        "for user_id, interest in interests:\n",
        "  user_ids_by_interest[interest].append(user_id)"
      ],
      "execution_count": 0,
      "outputs": []
    },
    {
      "cell_type": "code",
      "metadata": {
        "id": "qZu9L6hWzaIh",
        "colab_type": "code",
        "colab": {}
      },
      "source": [
        "#build index users to interests \n",
        "#keys are user_ids, values are lists of interests for that user_id.\n",
        "interests_by_user_id = defaultdict(list)\n",
        "for user_id, interest in interests:\n",
        "  interests_by_user_id[user_id].append(interest)"
      ],
      "execution_count": 0,
      "outputs": []
    },
    {
      "cell_type": "code",
      "metadata": {
        "id": "lQe-6n6r0Ehl",
        "colab_type": "code",
        "colab": {}
      },
      "source": [
        "def most_common_interests_with(user):\n",
        "  return Counter (\n",
        "      interested_user_id \n",
        "      for interest in interests_by_user_id[user[\"id\"]]\n",
        "      for interested_user_id in user_ids_by_interest[interest]\n",
        "      if interested_user_id != user[\"id\"]\n",
        "  )"
      ],
      "execution_count": 0,
      "outputs": []
    },
    {
      "cell_type": "code",
      "metadata": {
        "id": "jTBrAudO0IM4",
        "colab_type": "code",
        "colab": {}
      },
      "source": [
        "#vp of public relations and analysis of salary data\n",
        "salaries_and_tenures = [(83000, 8.7), (88000, 8.1),\n",
        "                        (48000, 0.7), (76000, 6),\n",
        "                        (69000, 6.5), (76000, 7.5),\n",
        "                        (60000, 2.5), (83000, 10),\n",
        "                        (48000, 1.9), (63000, 4.2)]"
      ],
      "execution_count": 0,
      "outputs": []
    },
    {
      "cell_type": "code",
      "metadata": {
        "id": "PlrgOd5s1cv2",
        "colab_type": "code",
        "colab": {}
      },
      "source": [
        "#keys are years, values are lists of the salaries for each tenure\n",
        "salary_by_tenure = defaultdict(list)\n",
        "\n",
        "for salary, tenure in salaries_and_tenures:\n",
        "  salary_by_tenure[tenure].append(salary)\n",
        "\n",
        "#keys are years, each value is the average salary for that tenure \n",
        "average_salary_by_tenure  = {\n",
        "    tenure: sum(salaries) / len(salaries)\n",
        "    for tenure, salaries in salary_by_tenure.items()\n",
        "}"
      ],
      "execution_count": 0,
      "outputs": []
    },
    {
      "cell_type": "code",
      "metadata": {
        "id": "WdAvsha11g3W",
        "colab_type": "code",
        "colab": {}
      },
      "source": [
        "#bucketing the tenures\n",
        "def tenure_bucket(tenure):\n",
        "  if tenure < 2:\n",
        "    return \"less than two\"\n",
        "  elif tenure < 5:\n",
        "    return \"between two and five\"\n",
        "  else:\n",
        "    return \"more than five\""
      ],
      "execution_count": 0,
      "outputs": []
    },
    {
      "cell_type": "code",
      "metadata": {
        "id": "bVXPWn413MVr",
        "colab_type": "code",
        "colab": {}
      },
      "source": [
        "#keys are tenures buckets, values are lists of salaries for that bucket\n",
        "salary_by_tenure_bucket = defaultdict(list)\n",
        "\n",
        "for salary, tenure in salaries_and_tenures:\n",
        "  bucket = tenure_bucket(tenure)\n",
        "  salary_by_tenure_bucket[bucket].append(salary)"
      ],
      "execution_count": 0,
      "outputs": []
    },
    {
      "cell_type": "code",
      "metadata": {
        "id": "gHCtLUIj31Uu",
        "colab_type": "code",
        "colab": {
          "base_uri": "https://localhost:8080/",
          "height": 54
        },
        "outputId": "fbe6579b-c748-418e-f5c9-21afbebb9922"
      },
      "source": [
        "#computing the average salary for ech bucket \n",
        "\n",
        "average_salary_by_bucket = {\n",
        "     tenure_bucket: sum(salaries) / len(salaries)\n",
        "     for tenure_bucket,salaries in salary_by_tenure_bucket.items()\n",
        " }\n",
        "print(average_salary_by_bucket)"
      ],
      "execution_count": 53,
      "outputs": [
        {
          "output_type": "stream",
          "text": [
            "{'more than five': 79166.66666666667, 'less than two': 48000.0, 'between two and five': 61500.0}\n"
          ],
          "name": "stdout"
        }
      ]
    },
    {
      "cell_type": "code",
      "metadata": {
        "id": "agWUL2oX4RiX",
        "colab_type": "code",
        "colab": {}
      },
      "source": [
        "# predicting paid accounts for the VP of Revenue\n",
        "def predict_paid_or_unpaid(years_experience):\n",
        "  if years_experience < 3.0:\n",
        "    return \"paid\"\n",
        "  elif years_experience < 8.5:\n",
        "    return \"unpaid\"\n",
        "  else:\n",
        "    return \"paid\""
      ],
      "execution_count": 0,
      "outputs": []
    },
    {
      "cell_type": "code",
      "metadata": {
        "id": "D8K05m_94yo1",
        "colab_type": "code",
        "colab": {}
      },
      "source": [
        "#users by topic of interest\n",
        "topic_interests = [\n",
        "    (0, \"Hadoop\"), (0, \"Big Data\"), (0, \"HBase\"), (0, \"Java\"),\n",
        "    (0, \"Spark\"), (0, \"Storm\"), (0, \"Cassandra\"),\n",
        "    (1, \"NoSQL\"), (1, \"MongoDB\"), (1, \"Cassandra\"), (1, \"HBase\"),\n",
        "    (1, \"Postgres\"), (2, \"Python\"), (2, \"scikit-learn\"), (2, \"scipy\"),\n",
        "    (2, \"numpy\"), (2, \"statsmodels\"), (2, \"pandas\"), (3, \"R\"), (3, \"Python\"),\n",
        "    (3, \"statistics\"), (3, \"regression\"), (3, \"probability\"),\n",
        "    (4, \"machine learning\"), (4, \"regression\"), (4, \"decision trees\"),\n",
        "    (4, \"libsvm\"), (5, \"Python\"), (5, \"R\"), (5, \"Java\"), (5, \"C++\"),\n",
        "    (5, \"Haskell\"), (5, \"programming languages\"), (6, \"statistics\"),\n",
        "    (6, \"probability\"), (6, \"mathematics\"), (6, \"theory\"),\n",
        "    (7, \"machine learning\"), (7, \"scikit-learn\"), (7, \"Mahout\"),\n",
        "    (7, \"neural networks\"), (8, \"neural networks\"), (8, \"deep learning\"),\n",
        "    (8, \"Big Data\"), (8, \"artificial intelligence\"), (9, \"Hadoop\"),\n",
        "    (9, \"Java\"), (9, \"MapReduce\"), (9, \"Big Data\")\n",
        "]"
      ],
      "execution_count": 0,
      "outputs": []
    },
    {
      "cell_type": "code",
      "metadata": {
        "id": "uK78cq8q652U",
        "colab_type": "code",
        "colab": {}
      },
      "source": [
        "words_and_counts = Counter(word \n",
        "                           for user, interest in interests\n",
        "                           for word in interest.lower().split())"
      ],
      "execution_count": 0,
      "outputs": []
    },
    {
      "cell_type": "code",
      "metadata": {
        "id": "BsBI3OnD7Mrd",
        "colab_type": "code",
        "colab": {
          "base_uri": "https://localhost:8080/",
          "height": 289
        },
        "outputId": "5fa0b5fd-e8fd-4838-b6e3-8579bb4c741c"
      },
      "source": [
        "for word, count in words_and_counts.most_common():\n",
        "  if count > 1:\n",
        "    print(word, count)"
      ],
      "execution_count": 59,
      "outputs": [
        {
          "output_type": "stream",
          "text": [
            "big 3\n",
            "data 3\n",
            "java 3\n",
            "python 3\n",
            "learning 3\n",
            "hadoop 2\n",
            "hbase 2\n",
            "cassandra 2\n",
            "scikit-learn 2\n",
            "r 2\n",
            "statistics 2\n",
            "regression 2\n",
            "probability 2\n",
            "machine 2\n",
            "neural 2\n",
            "networks 2\n"
          ],
          "name": "stdout"
        }
      ]
    },
    {
      "cell_type": "code",
      "metadata": {
        "id": "1yalFtnX7YWa",
        "colab_type": "code",
        "colab": {}
      },
      "source": [
        ""
      ],
      "execution_count": 0,
      "outputs": []
    }
  ]
}